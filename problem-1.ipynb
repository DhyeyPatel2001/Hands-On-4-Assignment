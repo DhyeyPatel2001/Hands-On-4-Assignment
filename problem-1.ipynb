{
 "cells": [
  {
   "cell_type": "markdown",
   "metadata": {},
   "source": [
    "## Problem 1\n"
   ]
  },
  {
   "cell_type": "code",
   "execution_count": 4,
   "metadata": {},
   "outputs": [],
   "source": [
    "def merge_k_sorted_arrays_simple(arrays, k):\n",
    "    \"\"\"Merges k sorted arrays into a single sorted array.\n",
    "\n",
    "    Args:\n",
    "        arrays: A list of k sorted arrays.\n",
    "        k: The number of arrays to merge.\n",
    "\n",
    "    Returns:\n",
    "        A single sorted array containing all elements from the input arrays.\n",
    "    \"\"\"\n",
    "    # Stores the merged elements\n",
    "    result = []\n",
    "    # Keeps track of the current index in each array\n",
    "    pointers = [0] * k  \n",
    "\n",
    "    while True:\n",
    "        # Initialize min_value to a large value\n",
    "        min_value = float('inf')\n",
    "        # Initialize min_index to -1\n",
    "        min_index = -1  \n",
    "\n",
    "        # Find the minimum value among all arrays\n",
    "        for i, array in enumerate(arrays):\n",
    "            if pointers[i] < len(array) and array[pointers[i]] < min_value:\n",
    "                min_value = array[pointers[i]]\n",
    "                min_index = i\n",
    "\n",
    "        # If we've exhausted all arrays, break\n",
    "        if min_index == -1:\n",
    "            break\n",
    "\n",
    "        # Add the minimum value to the result and move the pointer\n",
    "        result.append(min_value)\n",
    "        pointers[min_index] += 1\n",
    "\n",
    "    return result"
   ]
  },
  {
   "cell_type": "code",
   "execution_count": 5,
   "metadata": {},
   "outputs": [
    {
     "name": "stdout",
     "output_type": "stream",
     "text": [
      "[0, 1, 2, 3, 4, 5, 6, 7, 8, 9, 10, 11]\n"
     ]
    }
   ],
   "source": [
    "# Test Case-1\n",
    "k1, n1 = 3, 4\n",
    "arrays1 = [[1,3,5,7], [2,4,6,8], [0,9,10,11]]\n",
    "print(merge_k_sorted_arrays_simple(arrays1, k1))"
   ]
  },
  {
   "cell_type": "code",
   "execution_count": 6,
   "metadata": {},
   "outputs": [
    {
     "name": "stdout",
     "output_type": "stream",
     "text": [
      "[1, 2, 3, 4, 7, 8, 9, 10, 11]\n"
     ]
    }
   ],
   "source": [
    "# Test Case-2\n",
    "k2, n2 = 3, 3\n",
    "arrays2 = [[1,3,7], [2,4,8], [9,10,11]]\n",
    "print(merge_k_sorted_arrays_simple(arrays2, k2))"
   ]
  },
  {
   "cell_type": "markdown",
   "metadata": {},
   "source": [
    "### What is the time complexity of the solution?"
   ]
  },
  {
   "cell_type": "markdown",
   "metadata": {},
   "source": [
    "\n",
    "Time Complexity: **O(NK<sup>2</sup>)**\n",
    "\n",
    "K = Number of arrays contained within input array.\n",
    "N = Number of elements in each sub-array.\n",
    "\n",
    "We have a main loop that runs NK times (as we process all elements from all arrays).\n",
    "In each iteration of this loop, we scan through K arrays to find the minimum value.\n",
    "\n",
    "Therefore, the overall time complexity is O(NK * K) = O(NK<sup>2</sup>)."
   ]
  },
  {
   "cell_type": "markdown",
   "metadata": {},
   "source": [
    "### Comment on way's you could improve your implementation"
   ]
  },
  {
   "cell_type": "markdown",
   "metadata": {},
   "source": [
    "You can improve the current solution by using a divide and conquer approach, repeatedly merging pairs of arrays until we're left with a single sorted array. This would have a time complexity of **O(NK log K)** compared to solution implemented **O(NK<sup>2</sup>)**."
   ]
  }
 ],
 "metadata": {
  "kernelspec": {
   "display_name": "base",
   "language": "python",
   "name": "python3"
  },
  "language_info": {
   "codemirror_mode": {
    "name": "ipython",
    "version": 3
   },
   "file_extension": ".py",
   "mimetype": "text/x-python",
   "name": "python",
   "nbconvert_exporter": "python",
   "pygments_lexer": "ipython3",
   "version": "3.11.5"
  }
 },
 "nbformat": 4,
 "nbformat_minor": 2
}
