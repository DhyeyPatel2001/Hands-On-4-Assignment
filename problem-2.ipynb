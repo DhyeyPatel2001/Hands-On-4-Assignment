{
 "cells": [
  {
   "cell_type": "code",
   "execution_count": 1,
   "metadata": {},
   "outputs": [],
   "source": [
    "def remove_duplicates(arr):\n",
    "    if not arr:\n",
    "        return arr\n",
    "    \n",
    "    # Initialize the pointer for the position to place the next unique element\n",
    "    unique_pos = 1\n",
    "    \n",
    "    # Iterate through the array starting from the second element\n",
    "    for i in range(1, len(arr)):\n",
    "        # If the current element is different from the previous one\n",
    "        if arr[i] != arr[i-1]:\n",
    "            # Place it at the unique_pos and increment unique_pos\n",
    "            arr[unique_pos] = arr[i]\n",
    "            unique_pos += 1\n",
    "    \n",
    "    # Resize the array to remove extra elements\n",
    "    return arr[:unique_pos]"
   ]
  },
  {
   "cell_type": "code",
   "execution_count": 2,
   "metadata": {},
   "outputs": [
    {
     "name": "stdout",
     "output_type": "stream",
     "text": [
      "Input: [2, 2, 2, 2, 2]\n",
      "Output: [2]\n",
      "\n",
      "Input: [1, 2, 2, 3, 4, 4, 4, 5, 5]\n",
      "Output: [1, 2, 3, 4, 5]\n",
      "\n"
     ]
    }
   ],
   "source": [
    "# Test the function\n",
    "test_cases = [\n",
    "    [2, 2, 2, 2, 2],\n",
    "    [1, 2, 2, 3, 4, 4, 4, 5, 5]\n",
    "]\n",
    "\n",
    "for case in test_cases:\n",
    "    print(f\"Input: {case}\")\n",
    "    result = remove_duplicates(case)\n",
    "    print(f\"Output: {result}\\n\")"
   ]
  },
  {
   "cell_type": "markdown",
   "metadata": {},
   "source": [
    "Time Complexity: **O(N)** because we traverse the array only once and since we do operations in place (within the same array), the space complexity is **O(1)**.\n",
    "\n",
    "Improvement: Utilizing a hash set could offer a more straightforward approach to tracking unique elements but at an expense of additional space."
   ]
  },
  {
   "cell_type": "markdown",
   "metadata": {},
   "source": []
  }
 ],
 "metadata": {
  "kernelspec": {
   "display_name": "base",
   "language": "python",
   "name": "python3"
  },
  "language_info": {
   "codemirror_mode": {
    "name": "ipython",
    "version": 3
   },
   "file_extension": ".py",
   "mimetype": "text/x-python",
   "name": "python",
   "nbconvert_exporter": "python",
   "pygments_lexer": "ipython3",
   "version": "3.11.5"
  }
 },
 "nbformat": 4,
 "nbformat_minor": 2
}
